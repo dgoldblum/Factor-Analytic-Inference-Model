{
 "cells": [
  {
   "cell_type": "code",
   "execution_count": 3,
   "id": "87e9387a",
   "metadata": {},
   "outputs": [],
   "source": [
    "import numpy as np\n",
    "test = np.load(r'C:\\Users\\dgold\\Documents\\Thesis\\Thesis_Code\\Data\\Database\\SR_Results\\VISp\\drifting_gratingsgauss_sr_raw.npy', allow_pickle=True)"
   ]
  },
  {
   "cell_type": "code",
   "execution_count": null,
   "id": "f99dc307",
   "metadata": {},
   "outputs": [
    {
     "data": {
      "text/plain": [
       "array([-0.727285  ,  2.1610591 ,  1.6522403 , ..., -0.46978244,\n",
       "        0.30822653,  0.3925197 ], dtype=float32)"
      ]
     },
     "execution_count": 5,
     "metadata": {},
     "output_type": "execute_result"
    }
   ],
   "source": []
  }
 ],
 "metadata": {
  "kernelspec": {
   "display_name": ".venv",
   "language": "python",
   "name": "python3"
  },
  "language_info": {
   "codemirror_mode": {
    "name": "ipython",
    "version": 3
   },
   "file_extension": ".py",
   "mimetype": "text/x-python",
   "name": "python",
   "nbconvert_exporter": "python",
   "pygments_lexer": "ipython3",
   "version": "3.11.8"
  }
 },
 "nbformat": 4,
 "nbformat_minor": 5
}
